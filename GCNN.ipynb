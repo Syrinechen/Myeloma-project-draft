{
 "cells": [
  {
   "cell_type": "code",
   "execution_count": 2,
   "metadata": {},
   "outputs": [
    {
     "name": "stderr",
     "output_type": "stream",
     "text": [
      "Warning: IProgress not found. Please update jupyter and ipywidgets. See https://ipywidgets.readthedocs.io/en/stable/user_install.html\n"
     ]
    }
   ],
   "source": [
    "import pandas as pd\n",
    "import numpy as np\n",
    "import matplotlib.pyplot as plt\n",
    "import torch\n",
    "import torch.nn as nn\n",
    "import torch.nn.functional as F\n",
    "import torch.optim as optim\n",
    "#import graph\n",
    "from process_data import process,split_x_y,normalize_data\n",
    "from sklearn.model_selection import train_test_split\n",
    "from rnalysis import filtering"
   ]
  },
  {
   "cell_type": "markdown",
   "metadata": {},
   "source": [
    "### Data"
   ]
  },
  {
   "cell_type": "code",
   "execution_count": 3,
   "metadata": {},
   "outputs": [],
   "source": [
    "data=process('all_data.csv')"
   ]
  },
  {
   "cell_type": "code",
   "execution_count": 9,
   "metadata": {},
   "outputs": [
    {
     "data": {
      "text/plain": [
       "10404"
      ]
     },
     "execution_count": 9,
     "metadata": {},
     "output_type": "execute_result"
    }
   ],
   "source": [
    "102**2"
   ]
  },
  {
   "cell_type": "code",
   "execution_count": 3,
   "metadata": {},
   "outputs": [],
   "source": [
    "data_normalized=normalize_data(data,0)"
   ]
  },
  {
   "cell_type": "code",
   "execution_count": 4,
   "metadata": {},
   "outputs": [
    {
     "data": {
      "text/plain": [
       "(491, 53967)"
      ]
     },
     "execution_count": 4,
     "metadata": {},
     "output_type": "execute_result"
    }
   ],
   "source": [
    "data.shape"
   ]
  },
  {
   "cell_type": "code",
   "execution_count": 4,
   "metadata": {},
   "outputs": [],
   "source": [
    "gene_expression_normalized=data_normalized.describe()"
   ]
  },
  {
   "cell_type": "code",
   "execution_count": 5,
   "metadata": {},
   "outputs": [],
   "source": [
    "gene_expression=data.describe()"
   ]
  },
  {
   "cell_type": "code",
   "execution_count": 38,
   "metadata": {},
   "outputs": [
    {
     "data": {
      "text/html": [
       "<div>\n",
       "<style scoped>\n",
       "    .dataframe tbody tr th:only-of-type {\n",
       "        vertical-align: middle;\n",
       "    }\n",
       "\n",
       "    .dataframe tbody tr th {\n",
       "        vertical-align: top;\n",
       "    }\n",
       "\n",
       "    .dataframe thead th {\n",
       "        text-align: right;\n",
       "    }\n",
       "</style>\n",
       "<table border=\"1\" class=\"dataframe\">\n",
       "  <thead>\n",
       "    <tr style=\"text-align: right;\">\n",
       "      <th></th>\n",
       "      <th>ENSG00000223972</th>\n",
       "      <th>ENSG00000227232</th>\n",
       "      <th>ENSG00000243485</th>\n",
       "      <th>ENSG00000268020</th>\n",
       "      <th>ENSG00000240361</th>\n",
       "      <th>ENSG00000186092</th>\n",
       "      <th>ENSG00000238009</th>\n",
       "      <th>ENSG00000233750</th>\n",
       "      <th>ENSG00000237683</th>\n",
       "      <th>ENSG00000268903</th>\n",
       "      <th>...</th>\n",
       "      <th>ENSG00000244656</th>\n",
       "      <th>ENSG00000263760</th>\n",
       "      <th>ENSG00000264728</th>\n",
       "      <th>ENSG00000238667</th>\n",
       "      <th>ENSG00000238477</th>\n",
       "      <th>ENSG00000271726</th>\n",
       "      <th>ENSG00000215616</th>\n",
       "      <th>ENSG00000265557</th>\n",
       "      <th>ENSG00000238643</th>\n",
       "      <th>MRD Response</th>\n",
       "    </tr>\n",
       "  </thead>\n",
       "  <tbody>\n",
       "    <tr>\n",
       "      <th>count</th>\n",
       "      <td>491.000000</td>\n",
       "      <td>491.000000</td>\n",
       "      <td>491.000000</td>\n",
       "      <td>491.000000</td>\n",
       "      <td>491.000000</td>\n",
       "      <td>491.000000</td>\n",
       "      <td>491.000000</td>\n",
       "      <td>491.000000</td>\n",
       "      <td>491.000000</td>\n",
       "      <td>491.000000</td>\n",
       "      <td>...</td>\n",
       "      <td>491.000000</td>\n",
       "      <td>491.000000</td>\n",
       "      <td>491.000000</td>\n",
       "      <td>491.000000</td>\n",
       "      <td>491.000000</td>\n",
       "      <td>491.000000</td>\n",
       "      <td>491.000000</td>\n",
       "      <td>491.000000</td>\n",
       "      <td>491.000000</td>\n",
       "      <td>491.000000</td>\n",
       "    </tr>\n",
       "    <tr>\n",
       "      <th>mean</th>\n",
       "      <td>0.002037</td>\n",
       "      <td>0.002037</td>\n",
       "      <td>0.002037</td>\n",
       "      <td>0.002037</td>\n",
       "      <td>0.002037</td>\n",
       "      <td>0.002037</td>\n",
       "      <td>0.002037</td>\n",
       "      <td>0.002037</td>\n",
       "      <td>0.002037</td>\n",
       "      <td>0.002037</td>\n",
       "      <td>...</td>\n",
       "      <td>0.002037</td>\n",
       "      <td>0.002037</td>\n",
       "      <td>0.002037</td>\n",
       "      <td>0.002037</td>\n",
       "      <td>0.002037</td>\n",
       "      <td>0.002037</td>\n",
       "      <td>0.002037</td>\n",
       "      <td>0.002037</td>\n",
       "      <td>0.002037</td>\n",
       "      <td>0.478615</td>\n",
       "    </tr>\n",
       "    <tr>\n",
       "      <th>std</th>\n",
       "      <td>0.004189</td>\n",
       "      <td>0.001197</td>\n",
       "      <td>0.015051</td>\n",
       "      <td>0.022465</td>\n",
       "      <td>0.037800</td>\n",
       "      <td>0.045129</td>\n",
       "      <td>0.003257</td>\n",
       "      <td>0.002566</td>\n",
       "      <td>0.003733</td>\n",
       "      <td>0.003958</td>\n",
       "      <td>...</td>\n",
       "      <td>0.033791</td>\n",
       "      <td>0.008517</td>\n",
       "      <td>0.006893</td>\n",
       "      <td>0.005735</td>\n",
       "      <td>0.010382</td>\n",
       "      <td>0.020763</td>\n",
       "      <td>0.032339</td>\n",
       "      <td>0.009393</td>\n",
       "      <td>0.034070</td>\n",
       "      <td>0.500052</td>\n",
       "    </tr>\n",
       "    <tr>\n",
       "      <th>min</th>\n",
       "      <td>0.000000</td>\n",
       "      <td>0.000378</td>\n",
       "      <td>0.000000</td>\n",
       "      <td>0.000000</td>\n",
       "      <td>0.000000</td>\n",
       "      <td>0.000000</td>\n",
       "      <td>0.000000</td>\n",
       "      <td>0.000000</td>\n",
       "      <td>0.000009</td>\n",
       "      <td>0.000000</td>\n",
       "      <td>...</td>\n",
       "      <td>0.000000</td>\n",
       "      <td>0.000000</td>\n",
       "      <td>0.000000</td>\n",
       "      <td>0.000000</td>\n",
       "      <td>0.000000</td>\n",
       "      <td>0.000000</td>\n",
       "      <td>0.000000</td>\n",
       "      <td>0.000000</td>\n",
       "      <td>0.000000</td>\n",
       "      <td>0.000000</td>\n",
       "    </tr>\n",
       "    <tr>\n",
       "      <th>25%</th>\n",
       "      <td>0.000000</td>\n",
       "      <td>0.001186</td>\n",
       "      <td>0.000000</td>\n",
       "      <td>0.000000</td>\n",
       "      <td>0.000000</td>\n",
       "      <td>0.000000</td>\n",
       "      <td>0.000000</td>\n",
       "      <td>0.000474</td>\n",
       "      <td>0.000177</td>\n",
       "      <td>0.000000</td>\n",
       "      <td>...</td>\n",
       "      <td>0.000000</td>\n",
       "      <td>0.000000</td>\n",
       "      <td>0.000000</td>\n",
       "      <td>0.000000</td>\n",
       "      <td>0.000000</td>\n",
       "      <td>0.000000</td>\n",
       "      <td>0.000000</td>\n",
       "      <td>0.000000</td>\n",
       "      <td>0.000000</td>\n",
       "      <td>0.000000</td>\n",
       "    </tr>\n",
       "    <tr>\n",
       "      <th>50%</th>\n",
       "      <td>0.000000</td>\n",
       "      <td>0.001738</td>\n",
       "      <td>0.000000</td>\n",
       "      <td>0.000000</td>\n",
       "      <td>0.000000</td>\n",
       "      <td>0.000000</td>\n",
       "      <td>0.001204</td>\n",
       "      <td>0.001232</td>\n",
       "      <td>0.000573</td>\n",
       "      <td>0.000660</td>\n",
       "      <td>...</td>\n",
       "      <td>0.000000</td>\n",
       "      <td>0.000000</td>\n",
       "      <td>0.000000</td>\n",
       "      <td>0.000000</td>\n",
       "      <td>0.000000</td>\n",
       "      <td>0.000000</td>\n",
       "      <td>0.000000</td>\n",
       "      <td>0.000000</td>\n",
       "      <td>0.000000</td>\n",
       "      <td>0.000000</td>\n",
       "    </tr>\n",
       "    <tr>\n",
       "      <th>75%</th>\n",
       "      <td>0.002573</td>\n",
       "      <td>0.002552</td>\n",
       "      <td>0.000000</td>\n",
       "      <td>0.000000</td>\n",
       "      <td>0.000000</td>\n",
       "      <td>0.000000</td>\n",
       "      <td>0.002692</td>\n",
       "      <td>0.002698</td>\n",
       "      <td>0.002158</td>\n",
       "      <td>0.002100</td>\n",
       "      <td>...</td>\n",
       "      <td>0.000000</td>\n",
       "      <td>0.000000</td>\n",
       "      <td>0.000000</td>\n",
       "      <td>0.000000</td>\n",
       "      <td>0.000000</td>\n",
       "      <td>0.000000</td>\n",
       "      <td>0.000000</td>\n",
       "      <td>0.000000</td>\n",
       "      <td>0.000000</td>\n",
       "      <td>1.000000</td>\n",
       "    </tr>\n",
       "    <tr>\n",
       "      <th>max</th>\n",
       "      <td>0.047753</td>\n",
       "      <td>0.009938</td>\n",
       "      <td>0.255377</td>\n",
       "      <td>0.438382</td>\n",
       "      <td>0.833313</td>\n",
       "      <td>1.000000</td>\n",
       "      <td>0.026340</td>\n",
       "      <td>0.020159</td>\n",
       "      <td>0.042648</td>\n",
       "      <td>0.049011</td>\n",
       "      <td>...</td>\n",
       "      <td>0.675391</td>\n",
       "      <td>0.093325</td>\n",
       "      <td>0.073398</td>\n",
       "      <td>0.062097</td>\n",
       "      <td>0.123344</td>\n",
       "      <td>0.295235</td>\n",
       "      <td>0.585118</td>\n",
       "      <td>0.121308</td>\n",
       "      <td>0.688142</td>\n",
       "      <td>1.000000</td>\n",
       "    </tr>\n",
       "  </tbody>\n",
       "</table>\n",
       "<p>8 rows × 53967 columns</p>\n",
       "</div>"
      ],
      "text/plain": [
       "       ENSG00000223972  ENSG00000227232  ENSG00000243485  ENSG00000268020  \\\n",
       "count       491.000000       491.000000       491.000000       491.000000   \n",
       "mean          0.002037         0.002037         0.002037         0.002037   \n",
       "std           0.004189         0.001197         0.015051         0.022465   \n",
       "min           0.000000         0.000378         0.000000         0.000000   \n",
       "25%           0.000000         0.001186         0.000000         0.000000   \n",
       "50%           0.000000         0.001738         0.000000         0.000000   \n",
       "75%           0.002573         0.002552         0.000000         0.000000   \n",
       "max           0.047753         0.009938         0.255377         0.438382   \n",
       "\n",
       "       ENSG00000240361  ENSG00000186092  ENSG00000238009  ENSG00000233750  \\\n",
       "count       491.000000       491.000000       491.000000       491.000000   \n",
       "mean          0.002037         0.002037         0.002037         0.002037   \n",
       "std           0.037800         0.045129         0.003257         0.002566   \n",
       "min           0.000000         0.000000         0.000000         0.000000   \n",
       "25%           0.000000         0.000000         0.000000         0.000474   \n",
       "50%           0.000000         0.000000         0.001204         0.001232   \n",
       "75%           0.000000         0.000000         0.002692         0.002698   \n",
       "max           0.833313         1.000000         0.026340         0.020159   \n",
       "\n",
       "       ENSG00000237683  ENSG00000268903  ...  ENSG00000244656  \\\n",
       "count       491.000000       491.000000  ...       491.000000   \n",
       "mean          0.002037         0.002037  ...         0.002037   \n",
       "std           0.003733         0.003958  ...         0.033791   \n",
       "min           0.000009         0.000000  ...         0.000000   \n",
       "25%           0.000177         0.000000  ...         0.000000   \n",
       "50%           0.000573         0.000660  ...         0.000000   \n",
       "75%           0.002158         0.002100  ...         0.000000   \n",
       "max           0.042648         0.049011  ...         0.675391   \n",
       "\n",
       "       ENSG00000263760  ENSG00000264728  ENSG00000238667  ENSG00000238477  \\\n",
       "count       491.000000       491.000000       491.000000       491.000000   \n",
       "mean          0.002037         0.002037         0.002037         0.002037   \n",
       "std           0.008517         0.006893         0.005735         0.010382   \n",
       "min           0.000000         0.000000         0.000000         0.000000   \n",
       "25%           0.000000         0.000000         0.000000         0.000000   \n",
       "50%           0.000000         0.000000         0.000000         0.000000   \n",
       "75%           0.000000         0.000000         0.000000         0.000000   \n",
       "max           0.093325         0.073398         0.062097         0.123344   \n",
       "\n",
       "       ENSG00000271726  ENSG00000215616  ENSG00000265557  ENSG00000238643  \\\n",
       "count       491.000000       491.000000       491.000000       491.000000   \n",
       "mean          0.002037         0.002037         0.002037         0.002037   \n",
       "std           0.020763         0.032339         0.009393         0.034070   \n",
       "min           0.000000         0.000000         0.000000         0.000000   \n",
       "25%           0.000000         0.000000         0.000000         0.000000   \n",
       "50%           0.000000         0.000000         0.000000         0.000000   \n",
       "75%           0.000000         0.000000         0.000000         0.000000   \n",
       "max           0.295235         0.585118         0.121308         0.688142   \n",
       "\n",
       "       MRD Response  \n",
       "count    491.000000  \n",
       "mean       0.478615  \n",
       "std        0.500052  \n",
       "min        0.000000  \n",
       "25%        0.000000  \n",
       "50%        0.000000  \n",
       "75%        1.000000  \n",
       "max        1.000000  \n",
       "\n",
       "[8 rows x 53967 columns]"
      ]
     },
     "execution_count": 38,
     "metadata": {},
     "output_type": "execute_result"
    }
   ],
   "source": [
    "gene_expression_normalized"
   ]
  },
  {
   "cell_type": "code",
   "execution_count": 6,
   "metadata": {},
   "outputs": [],
   "source": [
    "to_filter_genes=list(gene_expression_normalized.drop(['MRD Response'],axis=1).T[gene_expression_normalized.drop(['MRD Response'],axis=1).T['std']<0.01].index)"
   ]
  },
  {
   "cell_type": "code",
   "execution_count": 7,
   "metadata": {},
   "outputs": [],
   "source": [
    "filtered_data=data_normalized.drop(to_filter_genes,axis=1)"
   ]
  },
  {
   "cell_type": "code",
   "execution_count": 8,
   "metadata": {},
   "outputs": [],
   "source": [
    "X,y=split_x_y(filtered_data)"
   ]
  },
  {
   "cell_type": "code",
   "execution_count": 16,
   "metadata": {},
   "outputs": [],
   "source": [
    "d = filtered_data.shape[1]-1    # Dimensionality.\n",
    "n = filtered_data.shape[0]  # Number of samples.\n",
    "c = 2      # Number of feature communities\n",
    "\n",
    "X_train,X_test,y_train,y_test=train_test_split(X,y,test_size=0.1,random_state=0)\n"
   ]
  },
  {
   "attachments": {},
   "cell_type": "markdown",
   "metadata": {},
   "source": [
    "### Graph"
   ]
  },
  {
   "cell_type": "code",
   "execution_count": 10,
   "metadata": {},
   "outputs": [],
   "source": [
    "dist, idx = graph.distance_scipy_spatial(X_train.T, k=7000, metric='euclidean')"
   ]
  },
  {
   "cell_type": "code",
   "execution_count": 11,
   "metadata": {},
   "outputs": [
    {
     "name": "stdout",
     "output_type": "stream",
     "text": [
      "16183\n",
      "[    0     0     0 ... 16182 16182 16182]\n"
     ]
    }
   ],
   "source": [
    "A = graph.adjacency(dist, idx).astype(np.float32)"
   ]
  },
  {
   "cell_type": "code",
   "execution_count": 14,
   "metadata": {},
   "outputs": [
    {
     "data": {
      "text/plain": [
       "(16183, 16183)"
      ]
     },
     "execution_count": 14,
     "metadata": {},
     "output_type": "execute_result"
    }
   ],
   "source": [
    "A.shape"
   ]
  },
  {
   "cell_type": "code",
   "execution_count": 17,
   "metadata": {},
   "outputs": [
    {
     "name": "stdout",
     "output_type": "stream",
     "text": [
      "d = |V| = 16183, k|V| < |E| = 173654364\n"
     ]
    },
    {
     "data": {
      "text/plain": [
       "<matplotlib.lines.Line2D at 0x7fd52b768580>"
      ]
     },
     "execution_count": 17,
     "metadata": {},
     "output_type": "execute_result"
    },
    {
     "data": {
      "image/png": "[encoded data removed]",
      "text/plain": [
       "<Figure size 640x480 with 1 Axes>"
      ]
     },
     "metadata": {},
     "output_type": "display_data"
    }
   ],
   "source": [
    "assert A.shape == (d, d)\n",
    "print('d = |V| = {}, k|V| < |E| = {}'.format(d, A.nnz))\n",
    "plt.spy(A, markersize=2, color='black')"
   ]
  }
 ],
 "metadata": {
  "kernelspec": {
   "display_name": "Python 3",
   "language": "python",
   "name": "python3"
  },
  "language_info": {
   "codemirror_mode": {
    "name": "ipython",
    "version": 3
   },
   "file_extension": ".py",
   "mimetype": "text/x-python",
   "name": "python",
   "nbconvert_exporter": "python",
   "pygments_lexer": "ipython3",
   "version": "3.9.5"
  },
  "orig_nbformat": 4
 },
 "nbformat": 4,
 "nbformat_minor": 2
}
