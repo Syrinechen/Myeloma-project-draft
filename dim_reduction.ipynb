{
 "cells": [
  {
   "cell_type": "code",
   "execution_count": 1,
   "metadata": {},
   "outputs": [],
   "source": [
    "import pandas as pd\n",
    "import numpy as np\n",
    "import random as rd\n",
    "import seaborn as sns\n",
    "from sklearn.decomposition import NMF\n",
    "from random import random\n",
    "import matplotlib.pyplot as plt\n",
    "import boruta"
   ]
  },
  {
   "cell_type": "code",
   "execution_count": 17,
   "metadata": {},
   "outputs": [],
   "source": [
    "my_data=pd.read_csv('all_data_filtered.csv')\n",
    "my_data.head(10)\n",
    "my_data.index=my_data['Patient_id']\n",
    "my_data=my_data.drop(['Patient_id'],axis=1)\n",
    "y=my_data['MRD Response']\n",
    "X=my_data.drop(['MRD Response'],axis=1)"
   ]
  },
  {
   "attachments": {},
   "cell_type": "markdown",
   "metadata": {},
   "source": [
    "### NMF :"
   ]
  },
  {
   "cell_type": "code",
   "execution_count": 3,
   "metadata": {},
   "outputs": [],
   "source": [
    "n_samples=X.shape[0]\n",
    "n_genes=X.shape[1]"
   ]
  },
  {
   "cell_type": "code",
   "execution_count": 4,
   "metadata": {},
   "outputs": [],
   "source": [
    "class nmf_model():\n",
    "    def __init__(self,X) :\n",
    "        self.data=X\n",
    "        self.n_runs=20\n",
    "        self.A_k=None\n",
    "        self.best_k=None\n",
    "        self.delta_k=None\n",
    "        self.best_k=None\n",
    "        self.model=None\n",
    "        self.W=None\n",
    "        self.H=None\n",
    "    \n",
    "    #Returns consensus matrix, which is the averaged connectivity matrix on several runs of the algorithm\n",
    "    def get_consensus_matrix(self,n_components):\n",
    "        model=NMF(n_components,init='random')\n",
    "        M_k=np.zeros((n_samples,n_samples))\n",
    "        for i in range (self.n_runs):\n",
    "            W=model.fit_transform(self.data)\n",
    "            H=model.components_\n",
    "            n_metagenes=H.shape[0]\n",
    "\n",
    "            #calculate Connectivity matrix\n",
    "            clusters=np.zeros(n_samples)\n",
    "            C=np.zeros((n_samples,n_samples))\n",
    "\n",
    "            for i in range (n_samples):\n",
    "                clusters[i]=np.argmax(H[:,i])\n",
    "\n",
    "            for i in range (n_samples):\n",
    "                for j in range (i,n_samples):\n",
    "                    if (clusters[i]==clusters[j]):\n",
    "                        C[i,j]=1\n",
    "                    else:\n",
    "                        C[i,j]=0\n",
    "        \n",
    "            M_k=M_k+C\n",
    "            return M_k/self.n_runs\n",
    "        \n",
    "    #To evaluate model stability\n",
    "    def get_consensus_distribution (self,M_k):\n",
    "        list_entries=M_k.ravel()\n",
    "        hist, bins=np.histogram(list_entries, density=True)\n",
    "        #calculate CDF\n",
    "        cdf=np.cumsum(hist)\n",
    "        return bins, hist, cdf\n",
    "\n",
    "    def model_selection(self):\n",
    "        list_k=[10,100]\n",
    "        self.A_k=np.zeros(len(list_k))\n",
    "        for i in range(len(list_k)):\n",
    "            Ck=self.get_consensus_matrix(list_k[i])\n",
    "            bins,hist,cdf=self.get_consensus_distribution(Ck)\n",
    "            self.A_k[i] = np.sum(h*(b-a) for b,a,h in zip(bins[1:],bins[:-1],cdf))\n",
    "        #differences between areas under CDFs\n",
    "        self.delta_k=np.array([(Ab-Aa)/Aa if i>2 else Aa \n",
    "                               for Ab,Aa, i in zip(self.A_k[1:],self.A_k[:-1],range(len(list_k)))])\n",
    "        self.best_k=list_k[np.argmax(self.delta_k)]\n",
    "    \n",
    "    def build_best_model(self):\n",
    "        self.model=NMF(n_components=self.best_k)\n",
    "        self.W=self.model.fit_transform(self.data)\n",
    "        self.H=self.model.components_\n",
    "        print(self.H)"
   ]
  },
  {
   "attachments": {},
   "cell_type": "markdown",
   "metadata": {},
   "source": [
    "#### NMF to cluster patients"
   ]
  },
  {
   "cell_type": "code",
   "execution_count": 10,
   "metadata": {},
   "outputs": [],
   "source": [
    "model=NMF(n_components=2)\n",
    "W=model.fit_transform(X.T)\n",
    "H=model.components_"
   ]
  },
  {
   "cell_type": "code",
   "execution_count": 15,
   "metadata": {},
   "outputs": [],
   "source": [
    "#reordering matrix columns according to MRD response\n",
    "H_reordered=np.zeros(H.shape)\n",
    "index_pos=np.where(y==1)[0]\n",
    "index_neg=np.where(y==0)[0]\n",
    "H_reordered=np.concatenate((H[:,index_pos],H[:,index_neg]),axis=1)"
   ]
  },
  {
   "cell_type": "code",
   "execution_count": 16,
   "metadata": {},
   "outputs": [
    {
     "data": {
      "text/plain": [
       "<Axes: >"
      ]
     },
     "execution_count": 16,
     "metadata": {},
     "output_type": "execute_result"
    },
    {
     "data": {
      "image/png": "[encoded data removed]",
      "text/plain": [
       "<Figure size 640x480 with 2 Axes>"
      ]
     },
     "metadata": {},
     "output_type": "display_data"
    }
   ],
   "source": [
    "sns.heatmap(H)"
   ]
  },
  {
   "cell_type": "code",
   "execution_count": 17,
   "metadata": {},
   "outputs": [
    {
     "data": {
      "text/plain": [
       "<Axes: >"
      ]
     },
     "execution_count": 17,
     "metadata": {},
     "output_type": "execute_result"
    },
    {
     "data": {
      "image/png": "[encoded data removed]",
      "text/plain": [
       "<Figure size 640x480 with 2 Axes>"
      ]
     },
     "metadata": {},
     "output_type": "display_data"
    }
   ],
   "source": [
    "sns.heatmap(H_reordered)"
   ]
  },
  {
   "attachments": {},
   "cell_type": "markdown",
   "metadata": {},
   "source": [
    "#### NMF to custer genes"
   ]
  },
  {
   "cell_type": "code",
   "execution_count": null,
   "metadata": {},
   "outputs": [],
   "source": [
    "model=nmf_model(X).build_best_model()"
   ]
  },
  {
   "cell_type": "code",
   "execution_count": 3,
   "metadata": {},
   "outputs": [],
   "source": [
    "model=NMF(n_components=500)\n",
    "W=model.fit_transform(X)\n",
    "H=model.components_"
   ]
  },
  {
   "cell_type": "code",
   "execution_count": 4,
   "metadata": {},
   "outputs": [
    {
     "data": {
      "text/plain": [
       "(491, 100)"
      ]
     },
     "execution_count": 4,
     "metadata": {},
     "output_type": "execute_result"
    }
   ],
   "source": [
    "W.shape"
   ]
  },
  {
   "cell_type": "code",
   "execution_count": 14,
   "metadata": {},
   "outputs": [],
   "source": [
    "X=W"
   ]
  },
  {
   "cell_type": "code",
   "execution_count": 15,
   "metadata": {},
   "outputs": [],
   "source": [
    "from sklearn.model_selection import train_test_split\n",
    "from sklearn.ensemble import GradientBoostingClassifier\n",
    "\n",
    "X_train,X_test,y_train,y_test=train_test_split(X,y,test_size=0.1,random_state=0)\n",
    "XGBoost=GradientBoostingClassifier(n_estimators=100)\n",
    "XGBoost=XGBoost.fit(X_train,y_train)"
   ]
  },
  {
   "cell_type": "code",
   "execution_count": 16,
   "metadata": {},
   "outputs": [
    {
     "name": "stdout",
     "output_type": "stream",
     "text": [
      "accuracy  0.42\n"
     ]
    }
   ],
   "source": [
    "y_pred=XGBoost.predict(X_test)\n",
    "from sklearn.metrics import accuracy_score\n",
    "print('accuracy ',accuracy_score(y_pred=y_pred,y_true=y_test) )"
   ]
  },
  {
   "attachments": {},
   "cell_type": "markdown",
   "metadata": {},
   "source": [
    "### PLS-DA:"
   ]
  },
  {
   "cell_type": "code",
   "execution_count": null,
   "metadata": {},
   "outputs": [],
   "source": [
    "from sklearn.cross_decomposition import PLSRegression\n",
    "from sklearn.metrics import accuracy_score\n",
    "y_dummies=pd.get_dummies(y)\n",
    "mypls=PLSRegression(n_components=2)\n",
    "H=mypls.fit_transform(X,y)\n",
    "mypred= mypls.predict(X)\n",
    "mypred[mypred>0.5]=1\n",
    "mypred[mypred<0.5]=0\n",
    "mypred=np.argmax(mypred,axis=1)\n",
    "from sklearn.metrics import accuracy_score\n",
    "accuracy_score(mypred,y)\n",
    "H[1].shape"
   ]
  }
 ],
 "metadata": {
  "kernelspec": {
   "display_name": "Python 3",
   "language": "python",
   "name": "python3"
  },
  "language_info": {
   "codemirror_mode": {
    "name": "ipython",
    "version": 3
   },
   "file_extension": ".py",
   "mimetype": "text/x-python",
   "name": "python",
   "nbconvert_exporter": "python",
   "pygments_lexer": "ipython3",
   "version": "3.10.6"
  },
  "orig_nbformat": 4,
  "vscode": {
   "interpreter": {
    "hash": "916dbcbb3f70747c44a77c7bcd40155683ae19c65e1c03b4aa3499c5328201f1"
   }
  }
 },
 "nbformat": 4,
 "nbformat_minor": 2
}
