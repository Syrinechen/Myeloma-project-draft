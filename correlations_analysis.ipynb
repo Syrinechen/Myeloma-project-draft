{
 "cells": [
  {
   "cell_type": "code",
   "execution_count": 2,
   "metadata": {},
   "outputs": [
    {
     "name": "stderr",
     "output_type": "stream",
     "text": [
      "2023-04-24 16:41:56.368554: I tensorflow/tsl/cuda/cudart_stub.cc:28] Could not find cuda drivers on your machine, GPU will not be used.\n",
      "2023-04-24 16:41:56.408341: I tensorflow/tsl/cuda/cudart_stub.cc:28] Could not find cuda drivers on your machine, GPU will not be used.\n",
      "2023-04-24 16:41:56.409162: I tensorflow/core/platform/cpu_feature_guard.cc:182] This TensorFlow binary is optimized to use available CPU instructions in performance-critical operations.\n",
      "To enable the following instructions: AVX2 FMA, in other operations, rebuild TensorFlow with the appropriate compiler flags.\n",
      "2023-04-24 16:41:57.069072: W tensorflow/compiler/tf2tensorrt/utils/py_utils.cc:38] TF-TRT Warning: Could not find TensorRT\n"
     ]
    }
   ],
   "source": [
    "import numpy as np\n",
    "import matplotlib.pyplot as plt\n",
    "import pandas as pd\n",
    "import seaborn as sns\n",
    "from scipy.spatial import distance\n",
    "from scipy.cluster import hierarchy\n",
    "from sklearn.model_selection import train_test_split\n",
    "from sklearn.ensemble import GradientBoostingClassifier\n",
    "from scipy.cluster.hierarchy import fcluster\n",
    "import process_data\n",
    "import umap\n",
    "from scipy.spatial import distance\n",
    "from scipy.cluster import hierarchy\n",
    "from sklearn.preprocessing import StandardScaler, MaxAbsScaler"
   ]
  },
  {
   "cell_type": "code",
   "execution_count": 3,
   "metadata": {},
   "outputs": [],
   "source": [
    "data=process_data.process('all_data.csv')\n",
    "X,y=process_data.split_x_y(data)"
   ]
  },
  {
   "cell_type": "code",
   "execution_count": 5,
   "metadata": {},
   "outputs": [],
   "source": [
    "def patients_corr_analysis(data,scaling_method):\n",
    "    X,y=process_data.split_x_y(data)\n",
    "    if scaling_method=='Standard':\n",
    "        scaler=StandardScaler()\n",
    "        X=scaler.fit_transform(X)\n",
    "        CorrPatients=np.corrcoef(X)\n",
    "    elif scaling_method=='Max':\n",
    "        scaler=MaxAbsScaler(copy=False)\n",
    "        X=scaler.fit_transform(X)\n",
    "        CorrPatients=np.corrcoef(X)\n",
    "    else:\n",
    "        CorrPatients=np.corrcoef(X)\n",
    "    #cluster patients according to correlations\n",
    "    row_linkage = hierarchy.linkage(\n",
    "    distance.pdist(CorrPatients), method='complete')\n",
    "    col_linkage = hierarchy.linkage(\n",
    "    distance.pdist(CorrPatients.T), method='complete')\n",
    "    cl=sns.clustermap(CorrPatients, row_linkage=row_linkage,col_linkage=col_linkage,figsize=(20, 20), cmap=\"YlGnBu\")\n",
    "    cl.savefig('CorrelationClusterMap'+scaling_method+'Scaling.pdf')\n",
    "    return row_linkage,pd.DataFrame(data=X,index=data.index,columns=data.columns[:-1])"
   ]
  },
  {
   "cell_type": "code",
   "execution_count": null,
   "metadata": {},
   "outputs": [],
   "source": [
    "linkage_max,X=patients_corr_analysis(data,'Max')"
   ]
  },
  {
   "cell_type": "code",
   "execution_count": null,
   "metadata": {},
   "outputs": [],
   "source": [
    "linkage_std,X=patients_corr_analysis(data,'Standard')"
   ]
  },
  {
   "cell_type": "code",
   "execution_count": 6,
   "metadata": {},
   "outputs": [],
   "source": [
    "#What is inside the clusters ? \n",
    "\n",
    "def get_clusters(X,linkage,nb_clusters):\n",
    "    fl = fcluster(linkage,nb_clusters,criterion='maxclust')\n",
    "    clusters=[]\n",
    "    for i in range(nb_clusters):\n",
    "        df=X.iloc[np.where(fl==i+1)]\n",
    "        clusters.append(df)\n",
    "    return clusters\n",
    "def get_gene_stats(cluster):\n",
    "    gene_expressions=pd.DataFrame(columns=['min','max','moyenne','écart_type',],index=cluster.columns)\n",
    "    gene_expressions['min']=cluster[cluster.columns].min()\n",
    "    gene_expressions['max']=cluster[cluster.columns].max()\n",
    "    gene_expressions['moyenne']=cluster[cluster.columns].mean()\n",
    "    gene_expressions['écart_type']=cluster[cluster.columns].std()\n",
    "    return gene_expressions\n",
    "def get_MRD_stats(cluster):\n",
    "    return pd.concat([cluster,y],axis=1).groupby('MRD Response').count().iloc[:,1][0]/len(cluster)*100\n",
    "\n",
    "def patients_clusters_analysis(X,linkage,nb_clusters):\n",
    "    clusters=get_clusters(X,linkage,nb_clusters)\n",
    "    for i in range (len(clusters)):\n",
    "        print('Le pourcentage de patients qui sont détectés MRD- est : ',get_MRD_stats(clusters[i]),',le nombre de patients dans le cluster est : ',len(clusters[i]))\n",
    "    pass"
   ]
  },
  {
   "cell_type": "code",
   "execution_count": 30,
   "metadata": {},
   "outputs": [
    {
     "name": "stdout",
     "output_type": "stream",
     "text": [
      "Le pourcentage de patients qui sont détectés MRD- est :  72.72727272727273 ,le nombre de patients dans le cluster est :  11\n",
      "Le pourcentage de patients qui sont détectés MRD- est :  50.38167938931297 ,le nombre de patients dans le cluster est :  262\n",
      "Le pourcentage de patients qui sont détectés MRD- est :  53.21100917431193 ,le nombre de patients dans le cluster est :  218\n"
     ]
    }
   ],
   "source": [
    "patients_clusters_analysis(X,linkage_max,3)"
   ]
  },
  {
   "cell_type": "code",
   "execution_count": 32,
   "metadata": {},
   "outputs": [
    {
     "name": "stdout",
     "output_type": "stream",
     "text": [
      "Le pourcentage de patients qui sont détectés MRD- est :  57.692307692307686 ,le nombre de patients dans le cluster est :  78\n",
      "Le pourcentage de patients qui sont détectés MRD- est :  51.08958837772397 ,le nombre de patients dans le cluster est :  413\n"
     ]
    }
   ],
   "source": [
    "patients_clusters_analysis(X,linkage_std,2)"
   ]
  },
  {
   "attachments": {},
   "cell_type": "markdown",
   "metadata": {},
   "source": [
    "### Only on selected features"
   ]
  },
  {
   "cell_type": "code",
   "execution_count": 22,
   "metadata": {},
   "outputs": [],
   "source": [
    "extracted_features=list(pd.read_csv('features_svc.csv').values[:,1])"
   ]
  },
  {
   "cell_type": "code",
   "execution_count": null,
   "metadata": {},
   "outputs": [],
   "source": [
    "linkage,X=patients_corr_analysis(pd.concat([data[extracted_features],y],axis=1),'None')"
   ]
  },
  {
   "cell_type": "code",
   "execution_count": 28,
   "metadata": {},
   "outputs": [
    {
     "name": "stdout",
     "output_type": "stream",
     "text": [
      "Le pourcentage de patients qui sont détectés MRD- est :  49.78165938864629 ,le nombre de patients dans le cluster est :  458\n",
      "Le pourcentage de patients qui sont détectés MRD- est :  100.0 ,le nombre de patients dans le cluster est :  9\n",
      "Le pourcentage de patients qui sont détectés MRD- est :  75.0 ,le nombre de patients dans le cluster est :  16\n",
      "Le pourcentage de patients qui sont détectés MRD- est :  100.0 ,le nombre de patients dans le cluster est :  2\n",
      "Le pourcentage de patients qui sont détectés MRD- est :  66.66666666666666 ,le nombre de patients dans le cluster est :  3\n",
      "Le pourcentage de patients qui sont détectés MRD- est :  100.0 ,le nombre de patients dans le cluster est :  3\n"
     ]
    }
   ],
   "source": [
    "patients_clusters_analysis(X=X,linkage=linkage,nb_clusters=6)"
   ]
  }
 ],
 "metadata": {
  "kernelspec": {
   "display_name": "Python 3",
   "language": "python",
   "name": "python3"
  },
  "language_info": {
   "codemirror_mode": {
    "name": "ipython",
    "version": 3
   },
   "file_extension": ".py",
   "mimetype": "text/x-python",
   "name": "python",
   "nbconvert_exporter": "python",
   "pygments_lexer": "ipython3",
   "version": "3.10.6"
  },
  "orig_nbformat": 4
 },
 "nbformat": 4,
 "nbformat_minor": 2
}
