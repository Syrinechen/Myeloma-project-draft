{
 "cells": [
  {
   "cell_type": "code",
   "execution_count": 1,
   "metadata": {},
   "outputs": [],
   "source": [
    "import pandas as pd\n",
    "import numpy as np\n",
    "import random as rd\n",
    "import seaborn as sns\n",
    "from sklearn.decomposition import NMF\n",
    "from random import random\n",
    "import matplotlib.pyplot as plt"
   ]
  },
  {
   "cell_type": "code",
   "execution_count": 2,
   "metadata": {},
   "outputs": [],
   "source": [
    "my_data=pd.read_csv('all_data_filtered.csv')\n",
    "my_data.head(10)\n",
    "my_data.index=my_data['Patient_id']"
   ]
  },
  {
   "cell_type": "code",
   "execution_count": 55,
   "metadata": {},
   "outputs": [
    {
     "data": {
      "text/html": [
       "<div>\n",
       "<style scoped>\n",
       "    .dataframe tbody tr th:only-of-type {\n",
       "        vertical-align: middle;\n",
       "    }\n",
       "\n",
       "    .dataframe tbody tr th {\n",
       "        vertical-align: top;\n",
       "    }\n",
       "\n",
       "    .dataframe thead th {\n",
       "        text-align: right;\n",
       "    }\n",
       "</style>\n",
       "<table border=\"1\" class=\"dataframe\">\n",
       "  <thead>\n",
       "    <tr style=\"text-align: right;\">\n",
       "      <th></th>\n",
       "      <th>ENSG00000223972</th>\n",
       "      <th>ENSG00000227232</th>\n",
       "      <th>ENSG00000243485</th>\n",
       "      <th>ENSG00000268020</th>\n",
       "      <th>ENSG00000240361</th>\n",
       "      <th>ENSG00000186092</th>\n",
       "      <th>ENSG00000238009</th>\n",
       "      <th>ENSG00000233750</th>\n",
       "      <th>ENSG00000237683</th>\n",
       "      <th>ENSG00000268903</th>\n",
       "      <th>...</th>\n",
       "      <th>ENSG00000244656</th>\n",
       "      <th>ENSG00000263760</th>\n",
       "      <th>ENSG00000264728</th>\n",
       "      <th>ENSG00000238667</th>\n",
       "      <th>ENSG00000238477</th>\n",
       "      <th>ENSG00000271726</th>\n",
       "      <th>ENSG00000215616</th>\n",
       "      <th>ENSG00000265557</th>\n",
       "      <th>ENSG00000238643</th>\n",
       "      <th>MRD Response</th>\n",
       "    </tr>\n",
       "    <tr>\n",
       "      <th>Patient_id</th>\n",
       "      <th></th>\n",
       "      <th></th>\n",
       "      <th></th>\n",
       "      <th></th>\n",
       "      <th></th>\n",
       "      <th></th>\n",
       "      <th></th>\n",
       "      <th></th>\n",
       "      <th></th>\n",
       "      <th></th>\n",
       "      <th></th>\n",
       "      <th></th>\n",
       "      <th></th>\n",
       "      <th></th>\n",
       "      <th></th>\n",
       "      <th></th>\n",
       "      <th></th>\n",
       "      <th></th>\n",
       "      <th></th>\n",
       "      <th></th>\n",
       "      <th></th>\n",
       "    </tr>\n",
       "  </thead>\n",
       "  <tbody>\n",
       "    <tr>\n",
       "      <th>165-06</th>\n",
       "      <td>0.000000</td>\n",
       "      <td>24.743294</td>\n",
       "      <td>0.0</td>\n",
       "      <td>0.0</td>\n",
       "      <td>0.0</td>\n",
       "      <td>0.0</td>\n",
       "      <td>0.015504</td>\n",
       "      <td>0.029030</td>\n",
       "      <td>0.249525</td>\n",
       "      <td>0.000000</td>\n",
       "      <td>...</td>\n",
       "      <td>0.0</td>\n",
       "      <td>0.0</td>\n",
       "      <td>2.666607</td>\n",
       "      <td>1.999955</td>\n",
       "      <td>0.674782</td>\n",
       "      <td>0.0</td>\n",
       "      <td>0.0</td>\n",
       "      <td>0.0</td>\n",
       "      <td>0.0</td>\n",
       "      <td>0.0</td>\n",
       "    </tr>\n",
       "    <tr>\n",
       "      <th>031-31</th>\n",
       "      <td>0.000000</td>\n",
       "      <td>18.281501</td>\n",
       "      <td>0.0</td>\n",
       "      <td>0.0</td>\n",
       "      <td>0.0</td>\n",
       "      <td>0.0</td>\n",
       "      <td>0.000000</td>\n",
       "      <td>0.087378</td>\n",
       "      <td>11.042994</td>\n",
       "      <td>1.078417</td>\n",
       "      <td>...</td>\n",
       "      <td>0.0</td>\n",
       "      <td>0.0</td>\n",
       "      <td>0.000000</td>\n",
       "      <td>0.000000</td>\n",
       "      <td>0.000000</td>\n",
       "      <td>0.0</td>\n",
       "      <td>0.0</td>\n",
       "      <td>0.0</td>\n",
       "      <td>0.0</td>\n",
       "      <td>1.0</td>\n",
       "    </tr>\n",
       "    <tr>\n",
       "      <th>069-02</th>\n",
       "      <td>0.062838</td>\n",
       "      <td>32.815619</td>\n",
       "      <td>0.0</td>\n",
       "      <td>0.0</td>\n",
       "      <td>0.0</td>\n",
       "      <td>0.0</td>\n",
       "      <td>0.000000</td>\n",
       "      <td>0.361829</td>\n",
       "      <td>27.015709</td>\n",
       "      <td>3.799909</td>\n",
       "      <td>...</td>\n",
       "      <td>0.0</td>\n",
       "      <td>0.0</td>\n",
       "      <td>0.000000</td>\n",
       "      <td>2.658880</td>\n",
       "      <td>2.018479</td>\n",
       "      <td>0.0</td>\n",
       "      <td>0.0</td>\n",
       "      <td>0.0</td>\n",
       "      <td>0.0</td>\n",
       "      <td>1.0</td>\n",
       "    </tr>\n",
       "    <tr>\n",
       "      <th>007-08</th>\n",
       "      <td>0.000000</td>\n",
       "      <td>17.226358</td>\n",
       "      <td>0.0</td>\n",
       "      <td>0.0</td>\n",
       "      <td>0.0</td>\n",
       "      <td>0.0</td>\n",
       "      <td>0.000000</td>\n",
       "      <td>0.018849</td>\n",
       "      <td>1.107071</td>\n",
       "      <td>0.190335</td>\n",
       "      <td>...</td>\n",
       "      <td>0.0</td>\n",
       "      <td>0.0</td>\n",
       "      <td>0.000000</td>\n",
       "      <td>0.000000</td>\n",
       "      <td>0.000000</td>\n",
       "      <td>0.0</td>\n",
       "      <td>0.0</td>\n",
       "      <td>0.0</td>\n",
       "      <td>0.0</td>\n",
       "      <td>0.0</td>\n",
       "    </tr>\n",
       "    <tr>\n",
       "      <th>034-24</th>\n",
       "      <td>0.000000</td>\n",
       "      <td>13.274798</td>\n",
       "      <td>0.0</td>\n",
       "      <td>0.0</td>\n",
       "      <td>0.0</td>\n",
       "      <td>0.0</td>\n",
       "      <td>0.031994</td>\n",
       "      <td>0.039939</td>\n",
       "      <td>0.171643</td>\n",
       "      <td>0.000000</td>\n",
       "      <td>...</td>\n",
       "      <td>0.0</td>\n",
       "      <td>0.0</td>\n",
       "      <td>0.000000</td>\n",
       "      <td>0.000000</td>\n",
       "      <td>0.000000</td>\n",
       "      <td>0.0</td>\n",
       "      <td>0.0</td>\n",
       "      <td>0.0</td>\n",
       "      <td>0.0</td>\n",
       "      <td>1.0</td>\n",
       "    </tr>\n",
       "  </tbody>\n",
       "</table>\n",
       "<p>5 rows × 53967 columns</p>\n",
       "</div>"
      ],
      "text/plain": [
       "            ENSG00000223972  ENSG00000227232  ENSG00000243485  \\\n",
       "Patient_id                                                      \n",
       "165-06             0.000000        24.743294              0.0   \n",
       "031-31             0.000000        18.281501              0.0   \n",
       "069-02             0.062838        32.815619              0.0   \n",
       "007-08             0.000000        17.226358              0.0   \n",
       "034-24             0.000000        13.274798              0.0   \n",
       "\n",
       "            ENSG00000268020  ENSG00000240361  ENSG00000186092  \\\n",
       "Patient_id                                                      \n",
       "165-06                  0.0              0.0              0.0   \n",
       "031-31                  0.0              0.0              0.0   \n",
       "069-02                  0.0              0.0              0.0   \n",
       "007-08                  0.0              0.0              0.0   \n",
       "034-24                  0.0              0.0              0.0   \n",
       "\n",
       "            ENSG00000238009  ENSG00000233750  ENSG00000237683  \\\n",
       "Patient_id                                                      \n",
       "165-06             0.015504         0.029030         0.249525   \n",
       "031-31             0.000000         0.087378        11.042994   \n",
       "069-02             0.000000         0.361829        27.015709   \n",
       "007-08             0.000000         0.018849         1.107071   \n",
       "034-24             0.031994         0.039939         0.171643   \n",
       "\n",
       "            ENSG00000268903  ...  ENSG00000244656  ENSG00000263760  \\\n",
       "Patient_id                   ...                                     \n",
       "165-06             0.000000  ...              0.0              0.0   \n",
       "031-31             1.078417  ...              0.0              0.0   \n",
       "069-02             3.799909  ...              0.0              0.0   \n",
       "007-08             0.190335  ...              0.0              0.0   \n",
       "034-24             0.000000  ...              0.0              0.0   \n",
       "\n",
       "            ENSG00000264728  ENSG00000238667  ENSG00000238477  \\\n",
       "Patient_id                                                      \n",
       "165-06             2.666607         1.999955         0.674782   \n",
       "031-31             0.000000         0.000000         0.000000   \n",
       "069-02             0.000000         2.658880         2.018479   \n",
       "007-08             0.000000         0.000000         0.000000   \n",
       "034-24             0.000000         0.000000         0.000000   \n",
       "\n",
       "            ENSG00000271726  ENSG00000215616  ENSG00000265557  \\\n",
       "Patient_id                                                      \n",
       "165-06                  0.0              0.0              0.0   \n",
       "031-31                  0.0              0.0              0.0   \n",
       "069-02                  0.0              0.0              0.0   \n",
       "007-08                  0.0              0.0              0.0   \n",
       "034-24                  0.0              0.0              0.0   \n",
       "\n",
       "            ENSG00000238643  MRD Response  \n",
       "Patient_id                                 \n",
       "165-06                  0.0           0.0  \n",
       "031-31                  0.0           1.0  \n",
       "069-02                  0.0           1.0  \n",
       "007-08                  0.0           0.0  \n",
       "034-24                  0.0           1.0  \n",
       "\n",
       "[5 rows x 53967 columns]"
      ]
     },
     "execution_count": 55,
     "metadata": {},
     "output_type": "execute_result"
    }
   ],
   "source": [
    "my_data=my_data.drop(['Patient_id'],axis=1)\n",
    "my_data.head()"
   ]
  },
  {
   "cell_type": "code",
   "execution_count": 56,
   "metadata": {},
   "outputs": [],
   "source": [
    "y=my_data['MRD Response']\n",
    "X=my_data.drop(['MRD Response'],axis=1)"
   ]
  },
  {
   "cell_type": "code",
   "execution_count": 57,
   "metadata": {},
   "outputs": [
    {
     "data": {
      "text/plain": [
       "(491, 53966)"
      ]
     },
     "execution_count": 57,
     "metadata": {},
     "output_type": "execute_result"
    }
   ],
   "source": [
    "X.shape"
   ]
  },
  {
   "cell_type": "code",
   "execution_count": 58,
   "metadata": {},
   "outputs": [],
   "source": [
    "CorrPatients=np.corrcoef(my_data)\n",
    "#CorrGenes=np.corrcoef(my_data.T)"
   ]
  },
  {
   "cell_type": "code",
   "execution_count": 61,
   "metadata": {},
   "outputs": [
    {
     "name": "stdout",
     "output_type": "stream",
     "text": [
      "(491, 491)\n"
     ]
    },
    {
     "ename": "ValueError",
     "evalue": "Distance matrix 'X' must be symmetric.",
     "output_type": "error",
     "traceback": [
      "\u001b[0;31m---------------------------------------------------------------------------\u001b[0m",
      "\u001b[0;31mValueError\u001b[0m                                Traceback (most recent call last)",
      "Cell \u001b[0;32mIn[61], line 7\u001b[0m\n\u001b[1;32m      5\u001b[0m dissimilarity \u001b[39m=\u001b[39m \u001b[39m1\u001b[39m \u001b[39m-\u001b[39m \u001b[39mabs\u001b[39m(CorrPatients)\n\u001b[1;32m      6\u001b[0m \u001b[39mprint\u001b[39m(dissimilarity\u001b[39m.\u001b[39mshape)\n\u001b[0;32m----> 7\u001b[0m Z \u001b[39m=\u001b[39m linkage(squareform(X\u001b[39m=\u001b[39;49mdissimilarity), \u001b[39m'\u001b[39m\u001b[39mcomplete\u001b[39m\u001b[39m'\u001b[39m)\n\u001b[1;32m      9\u001b[0m dendrogram(Z, X\u001b[39m.\u001b[39mcolumns, orientation\u001b[39m=\u001b[39m\u001b[39m'\u001b[39m\u001b[39mtop\u001b[39m\u001b[39m'\u001b[39m, \n\u001b[1;32m     10\u001b[0m            leaf_rotation\u001b[39m=\u001b[39m\u001b[39m90\u001b[39m)\n",
      "File \u001b[0;32m~/.local/lib/python3.10/site-packages/scipy/spatial/distance.py:2354\u001b[0m, in \u001b[0;36msquareform\u001b[0;34m(X, force, checks)\u001b[0m\n\u001b[1;32m   2352\u001b[0m     \u001b[39mraise\u001b[39;00m \u001b[39mValueError\u001b[39;00m(\u001b[39m'\u001b[39m\u001b[39mThe matrix argument must be square.\u001b[39m\u001b[39m'\u001b[39m)\n\u001b[1;32m   2353\u001b[0m \u001b[39mif\u001b[39;00m checks:\n\u001b[0;32m-> 2354\u001b[0m     is_valid_dm(X, throw\u001b[39m=\u001b[39;49m\u001b[39mTrue\u001b[39;49;00m, name\u001b[39m=\u001b[39;49m\u001b[39m'\u001b[39;49m\u001b[39mX\u001b[39;49m\u001b[39m'\u001b[39;49m)\n\u001b[1;32m   2356\u001b[0m \u001b[39m# One-side of the dimensions is set here.\u001b[39;00m\n\u001b[1;32m   2357\u001b[0m d \u001b[39m=\u001b[39m s[\u001b[39m0\u001b[39m]\n",
      "File \u001b[0;32m~/.local/lib/python3.10/site-packages/scipy/spatial/distance.py:2429\u001b[0m, in \u001b[0;36mis_valid_dm\u001b[0;34m(D, tol, throw, name, warning)\u001b[0m\n\u001b[1;32m   2427\u001b[0m \u001b[39mif\u001b[39;00m \u001b[39mnot\u001b[39;00m (D \u001b[39m==\u001b[39m D\u001b[39m.\u001b[39mT)\u001b[39m.\u001b[39mall():\n\u001b[1;32m   2428\u001b[0m     \u001b[39mif\u001b[39;00m name:\n\u001b[0;32m-> 2429\u001b[0m         \u001b[39mraise\u001b[39;00m \u001b[39mValueError\u001b[39;00m((\u001b[39m'\u001b[39m\u001b[39mDistance matrix \u001b[39m\u001b[39m\\'\u001b[39;00m\u001b[39m%s\u001b[39;00m\u001b[39m\\'\u001b[39;00m\u001b[39m must be \u001b[39m\u001b[39m'\u001b[39m\n\u001b[1;32m   2430\u001b[0m                          \u001b[39m'\u001b[39m\u001b[39msymmetric.\u001b[39m\u001b[39m'\u001b[39m) \u001b[39m%\u001b[39m name)\n\u001b[1;32m   2431\u001b[0m     \u001b[39melse\u001b[39;00m:\n\u001b[1;32m   2432\u001b[0m         \u001b[39mraise\u001b[39;00m \u001b[39mValueError\u001b[39;00m(\u001b[39m'\u001b[39m\u001b[39mDistance matrix must be symmetric.\u001b[39m\u001b[39m'\u001b[39m)\n",
      "\u001b[0;31mValueError\u001b[0m: Distance matrix 'X' must be symmetric."
     ]
    },
    {
     "data": {
      "text/plain": [
       "<Figure size 1200x500 with 0 Axes>"
      ]
     },
     "metadata": {},
     "output_type": "display_data"
    }
   ],
   "source": [
    "from scipy.cluster.hierarchy import linkage, dendrogram, fcluster\n",
    "from scipy.spatial.distance import squareform\n",
    "\n",
    "plt.figure(figsize=(12,5))\n",
    "dissimilarity = 1 - abs(CorrPatients)\n",
    "print(dissimilarity.shape)\n",
    "Z = linkage(squareform(X=dissimilarity), 'complete')\n",
    "\n",
    "dendrogram(Z, X.columns, orientation='top', \n",
    "           leaf_rotation=90)"
   ]
  },
  {
   "cell_type": "code",
   "execution_count": 51,
   "metadata": {},
   "outputs": [],
   "source": [
    "n_samples=X.shape[0]\n",
    "n_genes=X.shape[1]"
   ]
  },
  {
   "cell_type": "code",
   "execution_count": 49,
   "metadata": {},
   "outputs": [
    {
     "ename": "TypeError",
     "evalue": "'str' object cannot be interpreted as an integer",
     "output_type": "error",
     "traceback": [
      "\u001b[0;31m---------------------------------------------------------------------------\u001b[0m",
      "\u001b[0;31mTypeError\u001b[0m                                 Traceback (most recent call last)",
      "Cell \u001b[0;32mIn[49], line 1\u001b[0m\n\u001b[0;32m----> 1\u001b[0m \u001b[39mclass\u001b[39;00m \u001b[39mnmf_model\u001b[39;00m(X):\n\u001b[1;32m      2\u001b[0m     \u001b[39mdef\u001b[39;00m \u001b[39m__init__\u001b[39m(\u001b[39mself\u001b[39m) \u001b[39m-\u001b[39m\u001b[39m>\u001b[39m \u001b[39mNone\u001b[39;00m:\n\u001b[1;32m      3\u001b[0m         \u001b[39mself\u001b[39m\u001b[39m.\u001b[39mdata\u001b[39m=\u001b[39mX\n",
      "\u001b[0;31mTypeError\u001b[0m: 'str' object cannot be interpreted as an integer"
     ]
    }
   ],
   "source": [
    "class nmf_model(X):\n",
    "    def __init__(self) -> None:\n",
    "        self.data=X\n",
    "    \n",
    "    def eval_one_model(X,n_components):\n",
    "        model=NMF(n_components,init='random')\n",
    "        C_all_runs=np.zeros((n_samples,n_samples))\n",
    "        while ... :\n",
    "            W=model.fit_transform(X)\n",
    "            H=model.components_\n",
    "            n_metagenes=H.shape[0]\n",
    "            #calculate Connectivity matrix\n",
    "            clusters=np.zeros(n_samples)\n",
    "            C=np.zeros((n_samples,n_samples))\n",
    "            for i in range (n_samples):\n",
    "                clusters[i]=np.argmax(H[:,i])\n",
    "            for i in range (n_samples):\n",
    "                for j in range (i,n_samples):\n",
    "                    if (clusters[i]==clusters[j]):\n",
    "                        C[i,j]=1\n",
    "                    else:\n",
    "                        C[i,j]=0\n",
    "            C_all_runs=C_all_runs+C\n",
    "            return C_all_runs/n_runs\n",
    "        \n",
    "    def model_selection():\n",
    "        list_param=[10,100,1000,10000]\n",
    "        C_k=[]\n",
    "        for k in list_param:\n",
    "            C_k.append(eval_one_model(X,k))\n",
    "        return C_k\n",
    "    \n",
    "\n"
   ]
  },
  {
   "cell_type": "code",
   "execution_count": 58,
   "metadata": {},
   "outputs": [],
   "source": [
    "def nmf (X,n_components,n_runs):\n",
    "    model =NMF(n_components=100, init=\"random\", random_state=0)\n",
    "    C_all_runs=np.zeros((n_samples,n_samples))\n",
    "    for n in range (n_runs):\n",
    "        W=model.fit_transform(X)\n",
    "        H=model.components_\n",
    "        n_metagenes=H.shape[0]\n",
    "        #calculate Connectivity matrix\n",
    "        clusters=np.zeros(n_samples)\n",
    "        C=np.zeros((n_samples,n_samples))\n",
    "        for i in range (n_samples):\n",
    "            clusters[i]=np.argmax(H[:,i])\n",
    "        for i in range (n_samples):\n",
    "            for j in range (i,n_samples):\n",
    "                if (clusters[i]==clusters[j]):\n",
    "                    C[i,j]=1\n",
    "                else:\n",
    "                    C[i,j]=0\n",
    "        C_all_runs=C_all_runs+C\n",
    "        return C_all_runs/n_runs"
   ]
  },
  {
   "cell_type": "code",
   "execution_count": 60,
   "metadata": {},
   "outputs": [],
   "source": [
    "def nmf_selection(X,n_runs,k_list):\n",
    "    C_k=[]\n",
    "    for k in k_list:\n",
    "        C_k.append(nmf(X,k,n_runs))\n",
    "    return C_k\n",
    "    "
   ]
  },
  {
   "cell_type": "code",
   "execution_count": 62,
   "metadata": {},
   "outputs": [
    {
     "name": "stderr",
     "output_type": "stream",
     "text": [
      "/home/irit/.local/lib/python3.10/site-packages/sklearn/decomposition/_nmf.py:1665: ConvergenceWarning: Maximum number of iterations 200 reached. Increase it to improve convergence.\n",
      "  warnings.warn(\n",
      "/home/irit/.local/lib/python3.10/site-packages/sklearn/decomposition/_nmf.py:1665: ConvergenceWarning: Maximum number of iterations 200 reached. Increase it to improve convergence.\n",
      "  warnings.warn(\n",
      "/home/irit/.local/lib/python3.10/site-packages/sklearn/decomposition/_nmf.py:1665: ConvergenceWarning: Maximum number of iterations 200 reached. Increase it to improve convergence.\n",
      "  warnings.warn(\n"
     ]
    },
    {
     "data": {
      "text/plain": [
       "[array([[0.2, 0. , 0. , ..., 0.2, 0. , 0. ],\n",
       "        [0. , 0.2, 0. , ..., 0. , 0.2, 0.2],\n",
       "        [0. , 0. , 0.2, ..., 0. , 0. , 0. ],\n",
       "        ...,\n",
       "        [0. , 0. , 0. , ..., 0.2, 0. , 0. ],\n",
       "        [0. , 0. , 0. , ..., 0. , 0.2, 0.2],\n",
       "        [0. , 0. , 0. , ..., 0. , 0. , 0.2]]),\n",
       " array([[0.2, 0. , 0. , ..., 0.2, 0. , 0. ],\n",
       "        [0. , 0.2, 0. , ..., 0. , 0.2, 0.2],\n",
       "        [0. , 0. , 0.2, ..., 0. , 0. , 0. ],\n",
       "        ...,\n",
       "        [0. , 0. , 0. , ..., 0.2, 0. , 0. ],\n",
       "        [0. , 0. , 0. , ..., 0. , 0.2, 0.2],\n",
       "        [0. , 0. , 0. , ..., 0. , 0. , 0.2]]),\n",
       " array([[0.2, 0. , 0. , ..., 0.2, 0. , 0. ],\n",
       "        [0. , 0.2, 0. , ..., 0. , 0.2, 0.2],\n",
       "        [0. , 0. , 0.2, ..., 0. , 0. , 0. ],\n",
       "        ...,\n",
       "        [0. , 0. , 0. , ..., 0.2, 0. , 0. ],\n",
       "        [0. , 0. , 0. , ..., 0. , 0.2, 0.2],\n",
       "        [0. , 0. , 0. , ..., 0. , 0. , 0.2]])]"
      ]
     },
     "execution_count": 62,
     "metadata": {},
     "output_type": "execute_result"
    }
   ],
   "source": [
    "nmf_selection(X,5,[10,100,1000])"
   ]
  },
  {
   "cell_type": "code",
   "execution_count": 44,
   "metadata": {},
   "outputs": [
    {
     "name": "stdout",
     "output_type": "stream",
     "text": [
      "[0.12858969 0.26749319 0.25900064 ... 0.36426651 0.2064698  0.20678569]\n",
      "Cophenetic correlation coefficient: 0.6318492580993474\n"
     ]
    }
   ],
   "source": [
    "import numpy as np\n",
    "from sklearn.decomposition import NMF\n",
    "from scipy.spatial.distance import pdist\n",
    "from scipy.cluster.hierarchy import linkage, cophenet\n",
    "\n",
    "# Generate some sample data\n",
    "X = np.random.rand(100, 10)\n",
    "# Apply NMF to the data\n",
    "model = NMF(n_components=2, init='random', random_state=0)\n",
    "X = model.fit_transform(X)\n",
    "H=model.components_\n",
    "# Calculate pairwise distance matrix\n",
    "dist_matrix = pdist(X)\n",
    "print(dist_matrix)\n",
    "# Apply hierarchical clustering\n",
    "linkage_matrix = linkage(dist_matrix, method='ward')\n",
    "# Calculate cophenetic correlation coefficient\n",
    "coph_corr, coph_dist = cophenet(linkage_matrix, dist_matrix)\n",
    "\n",
    "print(\"Cophenetic correlation coefficient:\", coph_corr)"
   ]
  },
  {
   "cell_type": "code",
   "execution_count": null,
   "metadata": {},
   "outputs": [],
   "source": [
    "# Apply hierarchical clustering\n",
    "linkage_matrix = linkage(dist_matrix, method='ward')"
   ]
  }
 ],
 "metadata": {
  "kernelspec": {
   "display_name": "Python 3",
   "language": "python",
   "name": "python3"
  },
  "language_info": {
   "codemirror_mode": {
    "name": "ipython",
    "version": 3
   },
   "file_extension": ".py",
   "mimetype": "text/x-python",
   "name": "python",
   "nbconvert_exporter": "python",
   "pygments_lexer": "ipython3",
   "version": "3.10.6"
  },
  "orig_nbformat": 4
 },
 "nbformat": 4,
 "nbformat_minor": 2
}
