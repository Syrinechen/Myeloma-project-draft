{
 "cells": [
  {
   "cell_type": "code",
   "execution_count": 3,
   "metadata": {},
   "outputs": [],
   "source": [
    "import pandas as pd\n",
    "import numpy as np\n",
    "import random as rd\n",
    "import seaborn as sns\n",
    "from sklearn.decomposition import NMF\n",
    "from random import random\n",
    "import matplotlib.pyplot as plt"
   ]
  },
  {
   "cell_type": "code",
   "execution_count": 4,
   "metadata": {},
   "outputs": [],
   "source": [
    "my_data=pd.read_csv('all_data_filtered.csv')\n",
    "my_data.head(10)\n",
    "my_data.index=my_data['Patient_id']"
   ]
  },
  {
   "cell_type": "code",
   "execution_count": 5,
   "metadata": {},
   "outputs": [
    {
     "data": {
      "text/html": [
       "<div>\n",
       "<style scoped>\n",
       "    .dataframe tbody tr th:only-of-type {\n",
       "        vertical-align: middle;\n",
       "    }\n",
       "\n",
       "    .dataframe tbody tr th {\n",
       "        vertical-align: top;\n",
       "    }\n",
       "\n",
       "    .dataframe thead th {\n",
       "        text-align: right;\n",
       "    }\n",
       "</style>\n",
       "<table border=\"1\" class=\"dataframe\">\n",
       "  <thead>\n",
       "    <tr style=\"text-align: right;\">\n",
       "      <th></th>\n",
       "      <th>ENSG00000223972</th>\n",
       "      <th>ENSG00000227232</th>\n",
       "      <th>ENSG00000243485</th>\n",
       "      <th>ENSG00000268020</th>\n",
       "      <th>ENSG00000240361</th>\n",
       "      <th>ENSG00000186092</th>\n",
       "      <th>ENSG00000238009</th>\n",
       "      <th>ENSG00000233750</th>\n",
       "      <th>ENSG00000237683</th>\n",
       "      <th>ENSG00000268903</th>\n",
       "      <th>...</th>\n",
       "      <th>ENSG00000244656</th>\n",
       "      <th>ENSG00000263760</th>\n",
       "      <th>ENSG00000264728</th>\n",
       "      <th>ENSG00000238667</th>\n",
       "      <th>ENSG00000238477</th>\n",
       "      <th>ENSG00000271726</th>\n",
       "      <th>ENSG00000215616</th>\n",
       "      <th>ENSG00000265557</th>\n",
       "      <th>ENSG00000238643</th>\n",
       "      <th>MRD Response</th>\n",
       "    </tr>\n",
       "    <tr>\n",
       "      <th>Patient_id</th>\n",
       "      <th></th>\n",
       "      <th></th>\n",
       "      <th></th>\n",
       "      <th></th>\n",
       "      <th></th>\n",
       "      <th></th>\n",
       "      <th></th>\n",
       "      <th></th>\n",
       "      <th></th>\n",
       "      <th></th>\n",
       "      <th></th>\n",
       "      <th></th>\n",
       "      <th></th>\n",
       "      <th></th>\n",
       "      <th></th>\n",
       "      <th></th>\n",
       "      <th></th>\n",
       "      <th></th>\n",
       "      <th></th>\n",
       "      <th></th>\n",
       "      <th></th>\n",
       "    </tr>\n",
       "  </thead>\n",
       "  <tbody>\n",
       "    <tr>\n",
       "      <th>165-06</th>\n",
       "      <td>0.000000</td>\n",
       "      <td>24.743294</td>\n",
       "      <td>0.0</td>\n",
       "      <td>0.0</td>\n",
       "      <td>0.0</td>\n",
       "      <td>0.0</td>\n",
       "      <td>0.015504</td>\n",
       "      <td>0.029030</td>\n",
       "      <td>0.249525</td>\n",
       "      <td>0.000000</td>\n",
       "      <td>...</td>\n",
       "      <td>0.0</td>\n",
       "      <td>0.0</td>\n",
       "      <td>2.666607</td>\n",
       "      <td>1.999955</td>\n",
       "      <td>0.674782</td>\n",
       "      <td>0.0</td>\n",
       "      <td>0.0</td>\n",
       "      <td>0.0</td>\n",
       "      <td>0.0</td>\n",
       "      <td>0.0</td>\n",
       "    </tr>\n",
       "    <tr>\n",
       "      <th>031-31</th>\n",
       "      <td>0.000000</td>\n",
       "      <td>18.281501</td>\n",
       "      <td>0.0</td>\n",
       "      <td>0.0</td>\n",
       "      <td>0.0</td>\n",
       "      <td>0.0</td>\n",
       "      <td>0.000000</td>\n",
       "      <td>0.087378</td>\n",
       "      <td>11.042994</td>\n",
       "      <td>1.078417</td>\n",
       "      <td>...</td>\n",
       "      <td>0.0</td>\n",
       "      <td>0.0</td>\n",
       "      <td>0.000000</td>\n",
       "      <td>0.000000</td>\n",
       "      <td>0.000000</td>\n",
       "      <td>0.0</td>\n",
       "      <td>0.0</td>\n",
       "      <td>0.0</td>\n",
       "      <td>0.0</td>\n",
       "      <td>1.0</td>\n",
       "    </tr>\n",
       "    <tr>\n",
       "      <th>069-02</th>\n",
       "      <td>0.062838</td>\n",
       "      <td>32.815619</td>\n",
       "      <td>0.0</td>\n",
       "      <td>0.0</td>\n",
       "      <td>0.0</td>\n",
       "      <td>0.0</td>\n",
       "      <td>0.000000</td>\n",
       "      <td>0.361829</td>\n",
       "      <td>27.015709</td>\n",
       "      <td>3.799909</td>\n",
       "      <td>...</td>\n",
       "      <td>0.0</td>\n",
       "      <td>0.0</td>\n",
       "      <td>0.000000</td>\n",
       "      <td>2.658880</td>\n",
       "      <td>2.018479</td>\n",
       "      <td>0.0</td>\n",
       "      <td>0.0</td>\n",
       "      <td>0.0</td>\n",
       "      <td>0.0</td>\n",
       "      <td>1.0</td>\n",
       "    </tr>\n",
       "    <tr>\n",
       "      <th>007-08</th>\n",
       "      <td>0.000000</td>\n",
       "      <td>17.226358</td>\n",
       "      <td>0.0</td>\n",
       "      <td>0.0</td>\n",
       "      <td>0.0</td>\n",
       "      <td>0.0</td>\n",
       "      <td>0.000000</td>\n",
       "      <td>0.018849</td>\n",
       "      <td>1.107071</td>\n",
       "      <td>0.190335</td>\n",
       "      <td>...</td>\n",
       "      <td>0.0</td>\n",
       "      <td>0.0</td>\n",
       "      <td>0.000000</td>\n",
       "      <td>0.000000</td>\n",
       "      <td>0.000000</td>\n",
       "      <td>0.0</td>\n",
       "      <td>0.0</td>\n",
       "      <td>0.0</td>\n",
       "      <td>0.0</td>\n",
       "      <td>0.0</td>\n",
       "    </tr>\n",
       "    <tr>\n",
       "      <th>034-24</th>\n",
       "      <td>0.000000</td>\n",
       "      <td>13.274798</td>\n",
       "      <td>0.0</td>\n",
       "      <td>0.0</td>\n",
       "      <td>0.0</td>\n",
       "      <td>0.0</td>\n",
       "      <td>0.031994</td>\n",
       "      <td>0.039939</td>\n",
       "      <td>0.171643</td>\n",
       "      <td>0.000000</td>\n",
       "      <td>...</td>\n",
       "      <td>0.0</td>\n",
       "      <td>0.0</td>\n",
       "      <td>0.000000</td>\n",
       "      <td>0.000000</td>\n",
       "      <td>0.000000</td>\n",
       "      <td>0.0</td>\n",
       "      <td>0.0</td>\n",
       "      <td>0.0</td>\n",
       "      <td>0.0</td>\n",
       "      <td>1.0</td>\n",
       "    </tr>\n",
       "  </tbody>\n",
       "</table>\n",
       "<p>5 rows × 53967 columns</p>\n",
       "</div>"
      ],
      "text/plain": [
       "            ENSG00000223972  ENSG00000227232  ENSG00000243485  \\\n",
       "Patient_id                                                      \n",
       "165-06             0.000000        24.743294              0.0   \n",
       "031-31             0.000000        18.281501              0.0   \n",
       "069-02             0.062838        32.815619              0.0   \n",
       "007-08             0.000000        17.226358              0.0   \n",
       "034-24             0.000000        13.274798              0.0   \n",
       "\n",
       "            ENSG00000268020  ENSG00000240361  ENSG00000186092  \\\n",
       "Patient_id                                                      \n",
       "165-06                  0.0              0.0              0.0   \n",
       "031-31                  0.0              0.0              0.0   \n",
       "069-02                  0.0              0.0              0.0   \n",
       "007-08                  0.0              0.0              0.0   \n",
       "034-24                  0.0              0.0              0.0   \n",
       "\n",
       "            ENSG00000238009  ENSG00000233750  ENSG00000237683  \\\n",
       "Patient_id                                                      \n",
       "165-06             0.015504         0.029030         0.249525   \n",
       "031-31             0.000000         0.087378        11.042994   \n",
       "069-02             0.000000         0.361829        27.015709   \n",
       "007-08             0.000000         0.018849         1.107071   \n",
       "034-24             0.031994         0.039939         0.171643   \n",
       "\n",
       "            ENSG00000268903  ...  ENSG00000244656  ENSG00000263760  \\\n",
       "Patient_id                   ...                                     \n",
       "165-06             0.000000  ...              0.0              0.0   \n",
       "031-31             1.078417  ...              0.0              0.0   \n",
       "069-02             3.799909  ...              0.0              0.0   \n",
       "007-08             0.190335  ...              0.0              0.0   \n",
       "034-24             0.000000  ...              0.0              0.0   \n",
       "\n",
       "            ENSG00000264728  ENSG00000238667  ENSG00000238477  \\\n",
       "Patient_id                                                      \n",
       "165-06             2.666607         1.999955         0.674782   \n",
       "031-31             0.000000         0.000000         0.000000   \n",
       "069-02             0.000000         2.658880         2.018479   \n",
       "007-08             0.000000         0.000000         0.000000   \n",
       "034-24             0.000000         0.000000         0.000000   \n",
       "\n",
       "            ENSG00000271726  ENSG00000215616  ENSG00000265557  \\\n",
       "Patient_id                                                      \n",
       "165-06                  0.0              0.0              0.0   \n",
       "031-31                  0.0              0.0              0.0   \n",
       "069-02                  0.0              0.0              0.0   \n",
       "007-08                  0.0              0.0              0.0   \n",
       "034-24                  0.0              0.0              0.0   \n",
       "\n",
       "            ENSG00000238643  MRD Response  \n",
       "Patient_id                                 \n",
       "165-06                  0.0           0.0  \n",
       "031-31                  0.0           1.0  \n",
       "069-02                  0.0           1.0  \n",
       "007-08                  0.0           0.0  \n",
       "034-24                  0.0           1.0  \n",
       "\n",
       "[5 rows x 53967 columns]"
      ]
     },
     "execution_count": 5,
     "metadata": {},
     "output_type": "execute_result"
    }
   ],
   "source": [
    "my_data=my_data.drop(['Patient_id'],axis=1)\n",
    "my_data.head()"
   ]
  },
  {
   "cell_type": "code",
   "execution_count": 6,
   "metadata": {},
   "outputs": [],
   "source": [
    "y=my_data['MRD Response']\n",
    "X=my_data.drop(['MRD Response'],axis=1)"
   ]
  },
  {
   "cell_type": "code",
   "execution_count": 7,
   "metadata": {},
   "outputs": [
    {
     "data": {
      "text/plain": [
       "(491, 53966)"
      ]
     },
     "execution_count": 7,
     "metadata": {},
     "output_type": "execute_result"
    }
   ],
   "source": [
    "X.shape"
   ]
  },
  {
   "attachments": {},
   "cell_type": "markdown",
   "metadata": {},
   "source": [
    "### Correlations analysis:"
   ]
  },
  {
   "cell_type": "code",
   "execution_count": 58,
   "metadata": {},
   "outputs": [],
   "source": [
    "CorrPatients=np.corrcoef(my_data)\n",
    "#CorrGenes=np.corrcoef(my_data.T)"
   ]
  },
  {
   "cell_type": "code",
   "execution_count": null,
   "metadata": {},
   "outputs": [],
   "source": [
    "from scipy.cluster.hierarchy import linkage, dendrogram, fcluster\n",
    "from scipy.spatial.distance import squareform\n",
    "\n",
    "plt.figure(figsize=(12,5))\n",
    "dissimilarity = 1 - abs(CorrPatients)\n",
    "print(dissimilarity.shape)\n",
    "Z = linkage(squareform(X=dissimilarity), 'complete')\n",
    "\n",
    "dendrogram(Z, X.columns, orientation='top', \n",
    "           leaf_rotation=90)"
   ]
  },
  {
   "attachments": {},
   "cell_type": "markdown",
   "metadata": {},
   "source": [
    "### NMF :"
   ]
  },
  {
   "cell_type": "code",
   "execution_count": 8,
   "metadata": {},
   "outputs": [],
   "source": [
    "n_samples=X.shape[0]\n",
    "n_genes=X.shape[1]"
   ]
  },
  {
   "cell_type": "code",
   "execution_count": 15,
   "metadata": {},
   "outputs": [],
   "source": [
    "class nmf_model():\n",
    "    def __init__(self,X) :\n",
    "        self.data=X\n",
    "        self.n_runs=100\n",
    "        self.A_k=None\n",
    "        self.best_k=None\n",
    "        self.delta_k=None\n",
    "        self.best_k=None\n",
    "    \n",
    "    #Returns consensus matrix, which is the averaged connectivity matrix on several runs of the algorithm\n",
    "    def get_consensus_matrix(self,n_components):\n",
    "        model=NMF(n_components,init='random')\n",
    "        Cons_matrix=np.zeros((n_samples,n_samples))\n",
    "        for i in range (self.n_runs):\n",
    "            W=model.fit_transform(self.data)\n",
    "            H=model.components_\n",
    "            n_metagenes=H.shape[0]\n",
    "\n",
    "            #calculate Connectivity matrix\n",
    "            clusters=np.zeros(n_samples)\n",
    "            C=np.zeros((n_samples,n_samples))\n",
    "\n",
    "            for i in range (n_samples):\n",
    "                clusters[i]=np.argmax(H[:,i])\n",
    "\n",
    "            for i in range (n_samples):\n",
    "                for j in range (i,n_samples):\n",
    "                    if (clusters[i]==clusters[j]):\n",
    "                        C[i,j]=1\n",
    "                    else:\n",
    "                        C[i,j]=0\n",
    "        \n",
    "            Cons_matrix=Cons_matrix+C\n",
    "            return Cons_matrix/self.n_runs\n",
    "        \n",
    "    #To evaluate model stability\n",
    "    def get_consensus_distribution (self,Cons_matrix):\n",
    "        list_entries=Cons_matrix.ravel()\n",
    "        hist, bins=np.histogram(list_entries, density=True)\n",
    "        #calculate CDF\n",
    "        cdf=np.cumsum(hist)\n",
    "        fig, (ax1,ax2)=plt.subplots(1,2)        \n",
    "        ax1.hist(list_entries)\n",
    "        ax2.plot(bins[1:],cdf,label='CDF')\n",
    "        plt.show()\n",
    "        return bins, hist, cdf\n",
    "\n",
    "    def model_selection(self):\n",
    "        list_k=[10,1000,10000]\n",
    "        self.A_k=np.zeros(len(list_k))\n",
    "        for i in range(len(list_k)):\n",
    "            Ck=self.get_consensus_matrix(list_k[i])\n",
    "            bins,hist,cdf=self.get_consensus_distribution(Ck)\n",
    "            self.A_k[i] = np.sum(h*(b-a) for b,a,h in zip(bins[1:],bins[:-1],cdf))\n",
    "        #differences between areas under CDFs\n",
    "        self.delta_k=np.array([(Ab-Aa)/Aa if i>2 else Aa \n",
    "                               for Ab,Aa, i in zip(self.A_k[1:],self.A_k[:,-1],range(len(list_k)))])\n",
    "        self.best_k=np.argmax(self.deltaK)\n",
    "        "
   ]
  },
  {
   "cell_type": "code",
   "execution_count": 16,
   "metadata": {},
   "outputs": [],
   "source": [
    "my_model=nmf_model(X)"
   ]
  },
  {
   "cell_type": "code",
   "execution_count": 17,
   "metadata": {},
   "outputs": [
    {
     "data": {
      "image/png": "[encoded data removed]",
      "text/plain": [
       "<Figure size 640x480 with 2 Axes>"
      ]
     },
     "metadata": {},
     "output_type": "display_data"
    },
    {
     "name": "stderr",
     "output_type": "stream",
     "text": [
      "/tmp/ipykernel_117289/2387647673.py:54: DeprecationWarning: Calling np.sum(generator) is deprecated, and in the future will give a different result. Use np.sum(np.fromiter(generator)) or the python sum builtin instead.\n",
      "  self.A_k[i] = np.sum(h*(b-a) for b,a,h in zip(bins[1:],bins[:-1],cdf))\n"
     ]
    }
   ],
   "source": [
    "my_model.model_selection()"
   ]
  },
  {
   "cell_type": "code",
   "execution_count": 36,
   "metadata": {},
   "outputs": [],
   "source": [
    "C=my_model.get_consensus_matrix(n_components=10)"
   ]
  },
  {
   "cell_type": "code",
   "execution_count": 37,
   "metadata": {},
   "outputs": [
    {
     "data": {
      "image/png": "[encoded data removed]",
      "text/plain": [
       "<Figure size 640x480 with 2 Axes>"
      ]
     },
     "metadata": {},
     "output_type": "display_data"
    },
    {
     "data": {
      "text/plain": [
       "array([0.70290431, 0.70290431, 0.70290431, 0.70290431, 0.70290431,\n",
       "       0.70290431, 0.70290431, 0.70290431, 0.70290431, 1.        ])"
      ]
     },
     "execution_count": 37,
     "metadata": {},
     "output_type": "execute_result"
    }
   ],
   "source": [
    "my_model.get_consensus_distribution(C)"
   ]
  },
  {
   "cell_type": "code",
   "execution_count": 38,
   "metadata": {},
   "outputs": [
    {
     "name": "stderr",
     "output_type": "stream",
     "text": [
      "/home/syrine/.local/lib/python3.9/site-packages/sklearn/decomposition/_nmf.py:1665: ConvergenceWarning: Maximum number of iterations 200 reached. Increase it to improve convergence.\n",
      "  warnings.warn(\n"
     ]
    }
   ],
   "source": [
    "model_2=nmf_model(X)\n",
    "C_2=model_2.get_consensus_matrix(n_components=100)"
   ]
  },
  {
   "cell_type": "code",
   "execution_count": 39,
   "metadata": {},
   "outputs": [
    {
     "data": {
      "image/png": "[encoded data removed]",
      "text/plain": [
       "<Figure size 640x480 with 2 Axes>"
      ]
     },
     "metadata": {},
     "output_type": "display_data"
    },
    {
     "data": {
      "text/plain": [
       "array([0.70290431, 0.70290431, 0.70290431, 0.70290431, 0.70290431,\n",
       "       0.70290431, 0.70290431, 0.70290431, 0.70290431, 1.        ])"
      ]
     },
     "execution_count": 39,
     "metadata": {},
     "output_type": "execute_result"
    }
   ],
   "source": [
    "model_2.get_consensus_distribution(C)"
   ]
  },
  {
   "cell_type": "code",
   "execution_count": 58,
   "metadata": {},
   "outputs": [],
   "source": [
    "def nmf (X,n_components,n_runs):\n",
    "    model =NMF(n_components=100, init=\"random\", random_state=0)\n",
    "    C_all_runs=np.zeros((n_samples,n_samples))\n",
    "    for n in range (n_runs):\n",
    "        W=model.fit_transform(X)\n",
    "        H=model.components_\n",
    "        n_metagenes=H.shape[0]\n",
    "        #calculate Connectivity matrix\n",
    "        clusters=np.zeros(n_samples)\n",
    "        C=np.zeros((n_samples,n_samples))\n",
    "        for i in range (n_samples):\n",
    "            clusters[i]=np.argmax(H[:,i])\n",
    "        for i in range (n_samples):\n",
    "            for j in range (i,n_samples):\n",
    "                if (clusters[i]==clusters[j]):\n",
    "                    C[i,j]=1\n",
    "                else:\n",
    "                    C[i,j]=0\n",
    "        C_all_runs=C_all_runs+C\n",
    "        return C_all_runs/n_runs"
   ]
  },
  {
   "cell_type": "code",
   "execution_count": 60,
   "metadata": {},
   "outputs": [],
   "source": [
    "def nmf_selection(X,n_runs,k_list):\n",
    "    C_k=[]\n",
    "    for k in k_list:\n",
    "        C_k.append(nmf(X,k,n_runs))\n",
    "    return C_k\n",
    "    "
   ]
  },
  {
   "cell_type": "code",
   "execution_count": 62,
   "metadata": {},
   "outputs": [
    {
     "name": "stderr",
     "output_type": "stream",
     "text": [
      "/home/irit/.local/lib/python3.10/site-packages/sklearn/decomposition/_nmf.py:1665: ConvergenceWarning: Maximum number of iterations 200 reached. Increase it to improve convergence.\n",
      "  warnings.warn(\n",
      "/home/irit/.local/lib/python3.10/site-packages/sklearn/decomposition/_nmf.py:1665: ConvergenceWarning: Maximum number of iterations 200 reached. Increase it to improve convergence.\n",
      "  warnings.warn(\n",
      "/home/irit/.local/lib/python3.10/site-packages/sklearn/decomposition/_nmf.py:1665: ConvergenceWarning: Maximum number of iterations 200 reached. Increase it to improve convergence.\n",
      "  warnings.warn(\n"
     ]
    },
    {
     "data": {
      "text/plain": [
       "[array([[0.2, 0. , 0. , ..., 0.2, 0. , 0. ],\n",
       "        [0. , 0.2, 0. , ..., 0. , 0.2, 0.2],\n",
       "        [0. , 0. , 0.2, ..., 0. , 0. , 0. ],\n",
       "        ...,\n",
       "        [0. , 0. , 0. , ..., 0.2, 0. , 0. ],\n",
       "        [0. , 0. , 0. , ..., 0. , 0.2, 0.2],\n",
       "        [0. , 0. , 0. , ..., 0. , 0. , 0.2]]),\n",
       " array([[0.2, 0. , 0. , ..., 0.2, 0. , 0. ],\n",
       "        [0. , 0.2, 0. , ..., 0. , 0.2, 0.2],\n",
       "        [0. , 0. , 0.2, ..., 0. , 0. , 0. ],\n",
       "        ...,\n",
       "        [0. , 0. , 0. , ..., 0.2, 0. , 0. ],\n",
       "        [0. , 0. , 0. , ..., 0. , 0.2, 0.2],\n",
       "        [0. , 0. , 0. , ..., 0. , 0. , 0.2]]),\n",
       " array([[0.2, 0. , 0. , ..., 0.2, 0. , 0. ],\n",
       "        [0. , 0.2, 0. , ..., 0. , 0.2, 0.2],\n",
       "        [0. , 0. , 0.2, ..., 0. , 0. , 0. ],\n",
       "        ...,\n",
       "        [0. , 0. , 0. , ..., 0.2, 0. , 0. ],\n",
       "        [0. , 0. , 0. , ..., 0. , 0.2, 0.2],\n",
       "        [0. , 0. , 0. , ..., 0. , 0. , 0.2]])]"
      ]
     },
     "execution_count": 62,
     "metadata": {},
     "output_type": "execute_result"
    }
   ],
   "source": [
    "nmf_selection(X,5,[10,100,1000])"
   ]
  },
  {
   "cell_type": "code",
   "execution_count": 44,
   "metadata": {},
   "outputs": [
    {
     "name": "stdout",
     "output_type": "stream",
     "text": [
      "[0.12858969 0.26749319 0.25900064 ... 0.36426651 0.2064698  0.20678569]\n",
      "Cophenetic correlation coefficient: 0.6318492580993474\n"
     ]
    }
   ],
   "source": [
    "import numpy as np\n",
    "from sklearn.decomposition import NMF\n",
    "from scipy.spatial.distance import pdist\n",
    "from scipy.cluster.hierarchy import linkage, cophenet\n",
    "\n",
    "# Generate some sample data\n",
    "X = np.random.rand(100, 10)\n",
    "# Apply NMF to the data\n",
    "model = NMF(n_components=2, init='random', random_state=0)\n",
    "X = model.fit_transform(X)\n",
    "H=model.components_\n",
    "# Calculate pairwise distance matrix\n",
    "dist_matrix = pdist(X)\n",
    "print(dist_matrix)\n",
    "# Apply hierarchical clustering\n",
    "linkage_matrix = linkage(dist_matrix, method='ward')\n",
    "# Calculate cophenetic correlation coefficient\n",
    "coph_corr, coph_dist = cophenet(linkage_matrix, dist_matrix)\n",
    "\n",
    "print(\"Cophenetic correlation coefficient:\", coph_corr)"
   ]
  },
  {
   "cell_type": "code",
   "execution_count": null,
   "metadata": {},
   "outputs": [],
   "source": [
    "# Apply hierarchical clustering\n",
    "linkage_matrix = linkage(dist_matrix, method='ward')"
   ]
  }
 ],
 "metadata": {
  "kernelspec": {
   "display_name": "Python 3",
   "language": "python",
   "name": "python3"
  },
  "language_info": {
   "codemirror_mode": {
    "name": "ipython",
    "version": 3
   },
   "file_extension": ".py",
   "mimetype": "text/x-python",
   "name": "python",
   "nbconvert_exporter": "python",
   "pygments_lexer": "ipython3",
   "version": "3.9.5"
  },
  "orig_nbformat": 4
 },
 "nbformat": 4,
 "nbformat_minor": 2
}
